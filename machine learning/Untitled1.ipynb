{
 "cells": [
  {
   "cell_type": "code",
   "execution_count": 2,
   "id": "6f906e7c-64cf-4441-a812-e2de837877d4",
   "metadata": {},
   "outputs": [
    {
     "name": "stdout",
     "output_type": "stream",
     "text": [
      "Hello Data Science\n"
     ]
    }
   ],
   "source": [
    "print(\"Hello Data Science\")"
   ]
  },
  {
   "cell_type": "code",
   "execution_count": 3,
   "id": "0faf10cd-3b31-4b46-a530-eb9b0147c270",
   "metadata": {},
   "outputs": [
    {
     "name": "stdout",
     "output_type": "stream",
     "text": [
      "my name is naga\n"
     ]
    }
   ],
   "source": [
    "print(\"my name is naga\")"
   ]
  },
  {
   "cell_type": "code",
   "execution_count": null,
   "id": "74c0cc3d-50ce-454a-a9da-fb19b3156e9f",
   "metadata": {},
   "outputs": [],
   "source": [
    "x=24+26\n",
    "print(x)"
   ]
  },
  {
   "cell_type": "code",
   "execution_count": null,
   "id": "761c66ea-b87e-4a02-b870-f8b10e88bb59",
   "metadata": {},
   "outputs": [],
   "source": []
  }
 ],
 "metadata": {
  "kernelspec": {
   "display_name": "Python 3 (ipykernel)",
   "language": "python",
   "name": "python3"
  },
  "language_info": {
   "codemirror_mode": {
    "name": "ipython",
    "version": 3
   },
   "file_extension": ".py",
   "mimetype": "text/x-python",
   "name": "python",
   "nbconvert_exporter": "python",
   "pygments_lexer": "ipython3",
   "version": "3.11.7"
  }
 },
 "nbformat": 4,
 "nbformat_minor": 5
}
